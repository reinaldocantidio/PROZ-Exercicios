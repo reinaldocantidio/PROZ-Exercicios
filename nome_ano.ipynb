{
  "nbformat": 4,
  "nbformat_minor": 0,
  "metadata": {
    "colab": {
      "provenance": [],
      "authorship_tag": "ABX9TyNzt19wX86VbhrkOk8Q6il5",
      "include_colab_link": true
    },
    "kernelspec": {
      "name": "python3",
      "display_name": "Python 3"
    },
    "language_info": {
      "name": "python"
    }
  },
  "cells": [
    {
      "cell_type": "markdown",
      "metadata": {
        "id": "view-in-github",
        "colab_type": "text"
      },
      "source": [
        "<a href=\"https://colab.research.google.com/github/reinaldocantidio/PROZ-Exercicios/blob/main/nome_ano.ipynb\" target=\"_parent\"><img src=\"https://colab.research.google.com/assets/colab-badge.svg\" alt=\"Open In Colab\"/></a>"
      ]
    },
    {
      "cell_type": "code",
      "execution_count": null,
      "metadata": {
        "id": "652XzJoJdS2F"
      },
      "outputs": [],
      "source": [
        "\n",
        "\n",
        "while True:\n",
        "    nome_completo = input(\"Digite seu nome completo: \")\n",
        "    ano_nascimento = input(\"Digite seu ano de nascimento (entre 1922 e 2021): \")\n",
        "    try:\n",
        "        ano_nascimento = int(ano_nascimento)\n",
        "        if ano_nascimento < 1922 or ano_nascimento > 2021:\n",
        "            raise ValueError\n",
        "        break\n",
        "    except ValueError:\n",
        "        print(\"Ano de nascimento inválido. Tente novamente.\")\n",
        "\n",
        "\n",
        "idade = 2022 - ano_nascimento\n",
        "\n",
        "print(\"Seu nome completo é: \", nome_completo)\n",
        "print(\"Você tem \",idade, \"anos.\")"
      ]
    }
  ]
}