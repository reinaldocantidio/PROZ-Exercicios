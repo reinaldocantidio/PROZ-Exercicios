{
  "nbformat": 4,
  "nbformat_minor": 0,
  "metadata": {
    "colab": {
      "provenance": [],
      "authorship_tag": "ABX9TyObsJUhabRKNRnoP1Vh7eEk",
      "include_colab_link": true
    },
    "kernelspec": {
      "name": "python3",
      "display_name": "Python 3"
    },
    "language_info": {
      "name": "python"
    }
  },
  "cells": [
    {
      "cell_type": "markdown",
      "metadata": {
        "id": "view-in-github",
        "colab_type": "text"
      },
      "source": [
        "<a href=\"https://colab.research.google.com/github/reinaldocantidio/PROZ-Exercicios/blob/main/andares_hotel_1_1.ipynb\" target=\"_parent\"><img src=\"https://colab.research.google.com/assets/colab-badge.svg\" alt=\"Open In Colab\"/></a>"
      ]
    },
    {
      "cell_type": "code",
      "execution_count": 7,
      "metadata": {
        "colab": {
          "base_uri": "https://localhost:8080/"
        },
        "id": "FYibd7Nu-ayU",
        "outputId": "b721c5e2-7889-4f49-acf3-3857f4025f58"
      },
      "outputs": [
        {
          "output_type": "stream",
          "name": "stdout",
          "text": [
            "1 o. andar\n",
            "2 o. andar\n",
            "3 o. andar\n",
            "4 o. andar\n",
            "5 o. andar\n",
            "6 o. andar\n",
            "7 o. andar\n",
            "8 o. andar\n",
            "9 o. andar\n",
            "10 o. andar\n",
            "11 o. andar\n",
            "12 o. andar\n",
            "14 o. andar\n",
            "15 o. andar\n",
            "16 o. andar\n",
            "17 o. andar\n",
            "18 o. andar\n",
            "19 o. andar\n",
            "20 o. andar\n"
          ]
        }
      ],
      "source": [
        "# ==== Ex. 1.1 =============\n",
        "\n",
        "for i in range(1, 21):\n",
        "    if i == 13:\n",
        "        continue  \n",
        "\n",
        "    print(i,\"o. andar\")\n",
        "\n"
      ]
    }
  ]
}