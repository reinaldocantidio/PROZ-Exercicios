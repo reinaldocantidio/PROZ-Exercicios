{
  "nbformat": 4,
  "nbformat_minor": 0,
  "metadata": {
    "colab": {
      "provenance": [],
      "authorship_tag": "ABX9TyMc2BiNaErT2NwRuJ6YZBC7",
      "include_colab_link": true
    },
    "kernelspec": {
      "name": "python3",
      "display_name": "Python 3"
    },
    "language_info": {
      "name": "python"
    }
  },
  "cells": [
    {
      "cell_type": "markdown",
      "metadata": {
        "id": "view-in-github",
        "colab_type": "text"
      },
      "source": [
        "<a href=\"https://colab.research.google.com/github/reinaldocantidio/PROZ-Exercicios/blob/main/calculadora.ipynb\" target=\"_parent\"><img src=\"https://colab.research.google.com/assets/colab-badge.svg\" alt=\"Open In Colab\"/></a>"
      ]
    },
    {
      "cell_type": "code",
      "execution_count": 27,
      "metadata": {
        "colab": {
          "base_uri": "https://localhost:8080/"
        },
        "id": "cbFhXwMnIwUc",
        "outputId": "e24599a0-5bdb-4c99-bd40-57a2bdd64c8d"
      },
      "outputs": [
        {
          "output_type": "stream",
          "name": "stdout",
          "text": [
            "Resultado calculado 0\n"
          ]
        }
      ],
      "source": [
        "def calculadora(prim_num, seg_num, oper):\n",
        "  prim_num = prim_num\n",
        "  seg_num = seg_num\n",
        "  oper = oper\n",
        "  if(oper == 1): return prim_num + seg_num\n",
        "  elif(oper == 2): return prim_num - seg_num\n",
        "  elif(oper == 3): return prim_num * seg_num\n",
        "  elif(oper == 4): return prim_num / seg_num\n",
        "  elif(oper !=1) and (oper !=2) and (oper !=3) and (oper !=4): return 0\n",
        "    \n",
        "  return oper\n",
        "\n",
        "print(\"Resultado calculado\",calculadora(8, 4, 7))\n",
        "\n"
      ]
    }
  ]
}