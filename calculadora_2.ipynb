{
  "nbformat": 4,
  "nbformat_minor": 0,
  "metadata": {
    "colab": {
      "provenance": [],
      "authorship_tag": "ABX9TyMRUu+fUR4JuIYZAz80zD61",
      "include_colab_link": true
    },
    "kernelspec": {
      "name": "python3",
      "display_name": "Python 3"
    },
    "language_info": {
      "name": "python"
    }
  },
  "cells": [
    {
      "cell_type": "markdown",
      "metadata": {
        "id": "view-in-github",
        "colab_type": "text"
      },
      "source": [
        "<a href=\"https://colab.research.google.com/github/reinaldocantidio/PROZ-Exercicios/blob/main/calculadora_2.ipynb\" target=\"_parent\"><img src=\"https://colab.research.google.com/assets/colab-badge.svg\" alt=\"Open In Colab\"/></a>"
      ]
    },
    {
      "cell_type": "code",
      "execution_count": null,
      "metadata": {
        "id": "nBiOvGStFk0s"
      },
      "outputs": [],
      "source": [
        "\n",
        "\n",
        "def calculadora():\n",
        "    while True:\n",
        "        print(\"Escolha uma operação:\")\n",
        "        print(\"1: Soma\")\n",
        "        print(\"2: Subtração\")\n",
        "        print(\"3: Multiplicação\")\n",
        "        print(\"4: Divisão\")\n",
        "        print(\"0: Sair\")\n",
        "\n",
        "        opcao = int(input(\"Digite o número da operação desejada: \"))\n",
        "\n",
        "        if opcao == 0:\n",
        "            print(\"Saindo...\")\n",
        "            break\n",
        "        elif opcao == 1:\n",
        "            valor1 = float(input(\"Digite o primeiro valor: \"))\n",
        "            valor2 = float(input(\"Digite o segundo valor: \"))\n",
        "            resultado = valor1 + valor2\n",
        "            print(\"O resultado da soma é:\", resultado)\n",
        "            print(\"================================\")\n",
        "            print(\"================================\")\n",
        "        elif opcao == 2:\n",
        "            valor1 = float(input(\"Digite o primeiro valor: \"))\n",
        "            valor2 = float(input(\"Digite o segundo valor: \"))\n",
        "            resultado = valor1 - valor2\n",
        "            print(\"O resultado da subtração é:\", resultado)\n",
        "            print(\"================================\")\n",
        "            print(\"================================\")\n",
        "        elif opcao == 3:\n",
        "            valor1 = float(input(\"Digite o primeiro valor: \"))\n",
        "            valor2 = float(input(\"Digite o segundo valor: \"))\n",
        "            resultado = valor1 * valor2\n",
        "            print(\"O resultado da multiplicação é:\", resultado)\n",
        "            print(\"================================\")\n",
        "            print(\"================================\")\n",
        "        elif opcao == 4:\n",
        "            valor1 = float(input(\"Digite o primeiro valor: \"))\n",
        "            valor2 = float(input(\"Digite o segundo valor: \"))\n",
        "            resultado = valor1 / valor2\n",
        "            print(\"O resultado da divisão é:\", resultado)\n",
        "            print(\"================================\")\n",
        "            print(\"================================\")\n",
        "        else:\n",
        "            print(\"Essa opção não existe\")\n",
        "            print(\"================================\")\n",
        "            print(\"================================\")\n",
        "            continue\n",
        "\n",
        "            \n",
        "\n",
        "#===============================================================\n",
        "\n",
        "calculadora()\n",
        "\n",
        "\n",
        "        \n"
      ]
    }
  ]
}