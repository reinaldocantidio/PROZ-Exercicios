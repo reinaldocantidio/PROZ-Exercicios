{
  "nbformat": 4,
  "nbformat_minor": 0,
  "metadata": {
    "colab": {
      "provenance": [],
      "authorship_tag": "ABX9TyPHVqGmF5D4AgyNU1IwNP30",
      "include_colab_link": true
    },
    "kernelspec": {
      "name": "python3",
      "display_name": "Python 3"
    },
    "language_info": {
      "name": "python"
    }
  },
  "cells": [
    {
      "cell_type": "markdown",
      "metadata": {
        "id": "view-in-github",
        "colab_type": "text"
      },
      "source": [
        "<a href=\"https://colab.research.google.com/github/reinaldocantidio/PROZ-Exercicios/blob/main/andares_hotel_2_1.ipynb\" target=\"_parent\"><img src=\"https://colab.research.google.com/assets/colab-badge.svg\" alt=\"Open In Colab\"/></a>"
      ]
    },
    {
      "cell_type": "code",
      "execution_count": 1,
      "metadata": {
        "colab": {
          "base_uri": "https://localhost:8080/"
        },
        "id": "wKvw3gBaDG7g",
        "outputId": "acea331b-bd22-4722-c8f6-2685adc710cf"
      },
      "outputs": [
        {
          "output_type": "stream",
          "name": "stdout",
          "text": [
            "20 o. andar\n",
            "19 o. andar\n",
            "18 o. andar\n",
            "17 o. andar\n",
            "16 o. andar\n",
            "15 o. andar\n",
            "14 o. andar\n",
            "12 o. andar\n",
            "11 o. andar\n",
            "10 o. andar\n",
            "9 o. andar\n",
            "8 o. andar\n",
            "7 o. andar\n",
            "6 o. andar\n",
            "5 o. andar\n",
            "4 o. andar\n",
            "3 o. andar\n",
            "2 o. andar\n",
            "1 o. andar\n"
          ]
        }
      ],
      "source": [
        "\n",
        "# =======================\n",
        "#  Em ordem inversa\n",
        "# =======================\n",
        "\n",
        "\n",
        "# ==== Ex. 2.1 =============\n",
        "\n",
        "for i in range(20, 0, -1):\n",
        "    if i == 13:\n",
        "        continue\n",
        "    print(i,\"o. andar\")\n",
        "\n"
      ]
    }
  ]
}