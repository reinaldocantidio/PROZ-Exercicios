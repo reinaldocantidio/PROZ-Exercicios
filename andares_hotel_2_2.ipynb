{
  "nbformat": 4,
  "nbformat_minor": 0,
  "metadata": {
    "colab": {
      "provenance": [],
      "authorship_tag": "ABX9TyMipaGaWxHO/aH8sJ8FBKYX",
      "include_colab_link": true
    },
    "kernelspec": {
      "name": "python3",
      "display_name": "Python 3"
    },
    "language_info": {
      "name": "python"
    }
  },
  "cells": [
    {
      "cell_type": "markdown",
      "metadata": {
        "id": "view-in-github",
        "colab_type": "text"
      },
      "source": [
        "<a href=\"https://colab.research.google.com/github/reinaldocantidio/PROZ-Exercicios/blob/main/andares_hotel_2_2.ipynb\" target=\"_parent\"><img src=\"https://colab.research.google.com/assets/colab-badge.svg\" alt=\"Open In Colab\"/></a>"
      ]
    },
    {
      "cell_type": "code",
      "execution_count": 1,
      "metadata": {
        "colab": {
          "base_uri": "https://localhost:8080/"
        },
        "id": "VdH_rN2eDPdt",
        "outputId": "17fc68a7-f4e1-4179-f29d-b21e173f9b3e"
      },
      "outputs": [
        {
          "output_type": "stream",
          "name": "stdout",
          "text": [
            "20 o. andar\n",
            "19 o. andar\n",
            "18 o. andar\n",
            "17 o. andar\n",
            "16 o. andar\n",
            "15 o. andar\n",
            "14 o. andar\n",
            "12 o. andar\n",
            "11 o. andar\n",
            "10 o. andar\n",
            "9 o. andar\n",
            "8 o. andar\n",
            "7 o. andar\n",
            "6 o. andar\n",
            "5 o. andar\n",
            "4 o. andar\n",
            "3 o. andar\n",
            "2 o. andar\n",
            "1 o. andar\n"
          ]
        }
      ],
      "source": [
        "\n",
        "# =======================\n",
        "#  Em ordem inversa\n",
        "# =======================\n",
        "\n",
        "\n",
        "\n",
        "# ==== Ex. 2.2 =============\n",
        "\n",
        "\n",
        "i = 20\n",
        "while i >= 1:\n",
        "    if i == 13:\n",
        "        i -= 1\n",
        "        continue\n",
        "    print(i,\"o. andar\")\n",
        "    i -= 1"
      ]
    }
  ]
}